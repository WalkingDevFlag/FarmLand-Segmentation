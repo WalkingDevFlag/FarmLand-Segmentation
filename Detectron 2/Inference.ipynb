{
 "cells": [
  {
   "cell_type": "code",
   "execution_count": 1,
   "id": "6e205e0f-2229-468a-890e-b8416e97c9b8",
   "metadata": {},
   "outputs": [
    {
     "name": "stdout",
     "output_type": "stream",
     "text": [
      "nvcc: NVIDIA (R) Cuda compiler driver\n",
      "Copyright (c) 2005-2023 NVIDIA Corporation\n",
      "Built on Wed_Feb__8_05:53:42_Coordinated_Universal_Time_2023\n",
      "Cuda compilation tools, release 12.1, V12.1.66\n",
      "Build cuda_12.1.r12.1/compiler.32415258_0\n",
      "torch:  2.3 ; cuda:  2.3.1\n",
      "detectron2: 0.6\n"
     ]
    }
   ],
   "source": [
    "import torch, detectron2\n",
    "!nvcc --version\n",
    "TORCH_VERSION = \".\".join(torch.__version__.split(\".\")[:2])\n",
    "CUDA_VERSION = torch.__version__.split(\"+\")[-1]\n",
    "print(\"torch: \", TORCH_VERSION, \"; cuda: \", CUDA_VERSION)\n",
    "print(\"detectron2:\", detectron2.__version__)"
   ]
  },
  {
   "cell_type": "code",
   "execution_count": 2,
   "id": "8624c516-de52-406f-a1e1-63958c4e5af9",
   "metadata": {},
   "outputs": [],
   "source": [
    "import detectron2\n",
    "from detectron2.utils.logger import setup_logger\n",
    "setup_logger()\n",
    "import numpy as np\n",
    "import os, json, cv2, random\n",
    "from detectron2 import model_zoo\n",
    "from detectron2.engine import DefaultPredictor\n",
    "from detectron2.config import get_cfg\n",
    "from detectron2.utils.visualizer import Visualizer, ColorMode\n",
    "from detectron2.data import MetadataCatalog, DatasetCatalog\n",
    "from detectron2.evaluation import COCOEvaluator, inference_on_dataset\n",
    "from detectron2.data import build_detection_test_loader"
   ]
  },
  {
   "cell_type": "code",
   "execution_count": 3,
   "id": "4c293a5d-0f1a-418e-bdda-833e40ce8f93",
   "metadata": {},
   "outputs": [],
   "source": [
    "from detectron2.data.datasets import register_coco_instances\n",
    "register_coco_instances(\"my_dataset_train\", {}, r\"E:\\Random Python Scripts\\FarmLand-Segmentation-main\\Detectron 2\\Cleaned Dataset (Augmented, COCO, 20k)\\train\\_annotations.coco.json\", r\"E:\\Random Python Scripts\\FarmLand-Segmentation-main\\Detectron 2\\Cleaned Dataset (Augmented, COCO, 20k)\\train\")\n",
    "register_coco_instances(\"my_dataset_val\", {}, r\"E:\\Random Python Scripts\\FarmLand-Segmentation-main\\Detectron 2\\Cleaned Dataset (Augmented, COCO, 20k)\\valid\\_annotations.coco.json\", r\"E:\\Random Python Scripts\\FarmLand-Segmentation-main\\Detectron 2\\Cleaned Dataset (Augmented, COCO, 20k)\\valid\")"
   ]
  },
  {
   "cell_type": "code",
   "execution_count": 4,
   "id": "6f7e26b3-9132-4575-9d63-5c5d4b2e7fd2",
   "metadata": {},
   "outputs": [
    {
     "name": "stdout",
     "output_type": "stream",
     "text": [
      "\u001b[32m[07/10 11:44:36 d2.data.datasets.coco]: \u001b[0mLoading E:\\Random Python Scripts\\FarmLand-Segmentation-main\\Detectron 2\\Cleaned Dataset (Augmented, COCO, 20k)\\train\\_annotations.coco.json takes 1.88 seconds.\n",
      "\u001b[5m\u001b[31mWARNING\u001b[0m \u001b[32m[07/10 11:44:36 d2.data.datasets.coco]: \u001b[0m\n",
      "Category ids in annotations are not in [1, #categories]! We'll apply a mapping for you.\n",
      "\n",
      "\u001b[32m[07/10 11:44:37 d2.data.datasets.coco]: \u001b[0mLoaded 18407 images in COCO format from E:\\Random Python Scripts\\FarmLand-Segmentation-main\\Detectron 2\\Cleaned Dataset (Augmented, COCO, 20k)\\train\\_annotations.coco.json\n"
     ]
    }
   ],
   "source": [
    "train_metadata = MetadataCatalog.get(\"my_dataset_train\")\n",
    "train_dataset_dicts = DatasetCatalog.get(\"my_dataset_train\")"
   ]
  },
  {
   "cell_type": "code",
   "execution_count": 5,
   "id": "cac015a2-9c4b-43b5-a37c-710703318b9b",
   "metadata": {},
   "outputs": [
    {
     "name": "stdout",
     "output_type": "stream",
     "text": [
      "\u001b[5m\u001b[31mWARNING\u001b[0m \u001b[32m[07/10 11:44:38 d2.data.datasets.coco]: \u001b[0m\n",
      "Category ids in annotations are not in [1, #categories]! We'll apply a mapping for you.\n",
      "\n",
      "\u001b[32m[07/10 11:44:38 d2.data.datasets.coco]: \u001b[0mLoaded 749 images in COCO format from E:\\Random Python Scripts\\FarmLand-Segmentation-main\\Detectron 2\\Cleaned Dataset (Augmented, COCO, 20k)\\valid\\_annotations.coco.json\n"
     ]
    }
   ],
   "source": [
    "val_metadata = MetadataCatalog.get(\"my_dataset_val\")\n",
    "val_dataset_dicts = DatasetCatalog.get(\"my_dataset_val\")"
   ]
  },
  {
   "cell_type": "code",
   "execution_count": 6,
   "id": "5cbac67d-b683-4b75-a28b-3f33e058cafe",
   "metadata": {},
   "outputs": [
    {
     "name": "stdout",
     "output_type": "stream",
     "text": [
      "\u001b[32m[07/10 11:44:38 d2.checkpoint.detection_checkpoint]: \u001b[0m[DetectionCheckpointer] Loading from E:\\Random Python Scripts\\FarmLand-Segmentation-main\\Detectron 2\\model_50000_epochs (7.5k)\\model_final.pth ...\n"
     ]
    }
   ],
   "source": [
    "from detectron2.engine import DefaultTrainer\n",
    "\n",
    "cfg = get_cfg()\n",
    "cfg.OUTPUT_DIR = \"E:\\Random Python Scripts\\FarmLand-Segmentation-main\\Detectron 2\\model_50000_epochs (7.5k)\"\n",
    "cfg.merge_from_file(model_zoo.get_config_file(\"COCO-InstanceSegmentation/mask_rcnn_R_50_FPN_3x.yaml\"))\n",
    "cfg.DATASETS.TRAIN = (\"my_dataset_train\",)\n",
    "\n",
    "cfg.MODEL.ROI_HEADS.NUM_CLASSES = 2\n",
    "\n",
    "cfg.MODEL.WEIGHTS = os.path.join(cfg.OUTPUT_DIR, \"model_final.pth\")\n",
    "cfg.MODEL.ROI_HEADS.SCORE_THRESH_TEST = 0.5   # set a custom testing threshold\n",
    "predictor = DefaultPredictor(cfg)"
   ]
  },
  {
   "cell_type": "code",
   "execution_count": 7,
   "id": "bc1b52c8-7385-401f-b5f3-400de42101e2",
   "metadata": {},
   "outputs": [
    {
     "name": "stderr",
     "output_type": "stream",
     "text": [
      "C:\\Users\\Siddharth\\anaconda3\\envs\\detectron_env\\lib\\site-packages\\torch\\functional.py:512: UserWarning: torch.meshgrid: in an upcoming release, it will be required to pass the indexing argument. (Triggered internally at C:\\cb\\pytorch_1000000000000\\work\\aten\\src\\ATen\\native\\TensorShape.cpp:3588.)\n",
      "  return _VF.meshgrid(tensors, **kwargs)  # type: ignore[attr-defined]\n"
     ]
    }
   ],
   "source": [
    "dir_path = r\"E:\\Random Python Scripts\\FarmLand-Segmentation-main\\Detectron 2\\Cleaned Dataset (Augmented, COCO, 20k)\\test\"\n",
    "\n",
    "jpg_files = [f for f in os.listdir(dir_path) if f.endswith(\".jpg\")]\n",
    "\n",
    "random_file = random.choice(jpg_files)\n",
    "\n",
    "file_path = os.path.join(dir_path, random_file)\n",
    "\n",
    "new_im = cv2.imread(file_path)\n",
    "\n",
    "outputs = predictor(new_im)\n",
    "\n",
    "v = Visualizer(new_im[:, :, ::-1], metadata=train_metadata, instance_mode=ColorMode.SEGMENTATION)\n",
    "out = v.draw_instance_predictions(outputs[\"instances\"].to(\"cpu\"))\n",
    "\n",
    "cv2.imshow(\"Segmented Image\", out.get_image()[:, :, ::-1])\n",
    "cv2.waitKey(0)\n",
    "cv2.destroyAllWindows()"
   ]
  }
 ],
 "metadata": {
  "kernelspec": {
   "display_name": "detectron_env",
   "language": "python",
   "name": "detectron_env"
  },
  "language_info": {
   "codemirror_mode": {
    "name": "ipython",
    "version": 3
   },
   "file_extension": ".py",
   "mimetype": "text/x-python",
   "name": "python",
   "nbconvert_exporter": "python",
   "pygments_lexer": "ipython3",
   "version": "3.8.19"
  }
 },
 "nbformat": 4,
 "nbformat_minor": 5
}
